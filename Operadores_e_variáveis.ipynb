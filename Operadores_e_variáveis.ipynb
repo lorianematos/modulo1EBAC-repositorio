{
  "nbformat": 4,
  "nbformat_minor": 0,
  "metadata": {
    "colab": {
      "provenance": [],
      "authorship_tag": "ABX9TyOUq8UYAUiBBU1CVJoAJOB/",
      "include_colab_link": true
    },
    "kernelspec": {
      "name": "python3",
      "display_name": "Python 3"
    },
    "language_info": {
      "name": "python"
    }
  },
  "cells": [
    {
      "cell_type": "markdown",
      "metadata": {
        "id": "view-in-github",
        "colab_type": "text"
      },
      "source": [
        "<a href=\"https://colab.research.google.com/github/lorianematos/modulo1EBAC-repositorio/blob/main/Operadores_e_vari%C3%A1veis.ipynb\" target=\"_parent\"><img src=\"https://colab.research.google.com/assets/colab-badge.svg\" alt=\"Open In Colab\"/></a>"
      ]
    },
    {
      "cell_type": "markdown",
      "source": [
        "#Operadores Aritméticos"
      ],
      "metadata": {
        "id": "J0HcUpgFnJO0"
      }
    },
    {
      "cell_type": "code",
      "execution_count": null,
      "metadata": {
        "id": "IsCzvWLSkNKQ"
      },
      "outputs": [],
      "source": [
        "# Adiçao\n",
        "10 + 2\n"
      ]
    },
    {
      "cell_type": "code",
      "source": [
        "# Subttração\n",
        "10 - 2"
      ],
      "metadata": {
        "id": "NH2tTuSGllJ3"
      },
      "execution_count": null,
      "outputs": []
    },
    {
      "cell_type": "code",
      "source": [
        "# Multiplicação\n",
        "10 * 2"
      ],
      "metadata": {
        "id": "1a9d5w2Anso3"
      },
      "execution_count": null,
      "outputs": []
    },
    {
      "cell_type": "code",
      "source": [
        "# Divisão\n",
        "10 / 2"
      ],
      "metadata": {
        "id": "GIPUsgdXnyQ5"
      },
      "execution_count": null,
      "outputs": []
    },
    {
      "cell_type": "code",
      "source": [
        "# Divisão inteira\n",
        "10 // 2\n"
      ],
      "metadata": {
        "id": "aEPfJlfmn46b"
      },
      "execution_count": null,
      "outputs": []
    },
    {
      "cell_type": "code",
      "source": [
        "# Resto da divisão\n",
        "10 % 2"
      ],
      "metadata": {
        "id": "hCaFS2QooP84"
      },
      "execution_count": null,
      "outputs": []
    },
    {
      "cell_type": "code",
      "source": [
        "# Pontenciação\n",
        "10 ** 2"
      ],
      "metadata": {
        "id": "-DTyK1xooXFM"
      },
      "execution_count": null,
      "outputs": []
    },
    {
      "cell_type": "markdown",
      "source": [
        "#Operadores Relacionais\n"
      ],
      "metadata": {
        "id": "kf0SKbZooeqQ"
      }
    },
    {
      "cell_type": "code",
      "source": [
        "# Menor\n",
        "10 < 2"
      ],
      "metadata": {
        "id": "AxbGdLzEoulA"
      },
      "execution_count": null,
      "outputs": []
    },
    {
      "cell_type": "code",
      "source": [
        "# Menor ou igual\n",
        "10 <= 2"
      ],
      "metadata": {
        "id": "2M6-t5k2o1Ib"
      },
      "execution_count": null,
      "outputs": []
    },
    {
      "cell_type": "code",
      "source": [
        "# Maior\n",
        "10 > 2"
      ],
      "metadata": {
        "id": "Mkof2aX-pGie"
      },
      "execution_count": null,
      "outputs": []
    },
    {
      "cell_type": "code",
      "source": [
        "# Maior ou Igual\n",
        "10 >= 2"
      ],
      "metadata": {
        "id": "hWzM8JxgpPS7"
      },
      "execution_count": null,
      "outputs": []
    },
    {
      "cell_type": "code",
      "source": [
        "# Igual\n",
        "7 == 7"
      ],
      "metadata": {
        "id": "SVxtJHs2pSui"
      },
      "execution_count": null,
      "outputs": []
    },
    {
      "cell_type": "code",
      "source": [
        "# Diferente\n",
        "7!= 7"
      ],
      "metadata": {
        "id": "IEUBGmhFpbBG"
      },
      "execution_count": null,
      "outputs": []
    },
    {
      "cell_type": "markdown",
      "source": [
        "#Operadores Lógicos\n",
        "\n",
        "*   And\n",
        "*   Or\n",
        "*   Not\n",
        "\n",
        "\n",
        "\n",
        "\n"
      ],
      "metadata": {
        "id": "otXO5_cLpoUK"
      }
    },
    {
      "cell_type": "markdown",
      "source": [
        "#Tabela Verdade\n",
        "\n",
        "And"
      ],
      "metadata": {
        "id": "cu8ytX9Mp-L8"
      }
    },
    {
      "cell_type": "code",
      "source": [
        "print(10 > 1 and 4 < 6)       # V and V - V\n",
        "print(10 > 2 and 4 > 6)       # V and F - F\n",
        "print(10 < 2 and 1 < 6)       # F and V - F\n",
        "print(10 < 2 and 4 > 6)       # F and F - F"
      ],
      "metadata": {
        "id": "tPJWz2WpqATa"
      },
      "execution_count": null,
      "outputs": []
    },
    {
      "cell_type": "markdown",
      "source": [
        "Or"
      ],
      "metadata": {
        "id": "m7Vd-ER-ruPJ"
      }
    },
    {
      "cell_type": "code",
      "source": [
        "print(10 > 2 or 4 < 6)         # V or V - V\n",
        "print(10 > 2 or 4 > 6)         # V or F - V\n",
        "print(10 < 2 or 4 < 6)         # F or V - V\n",
        "print(10 < 2 or 4 > 6)         # F or F - F"
      ],
      "metadata": {
        "id": "qFrotjcJqJPH"
      },
      "execution_count": null,
      "outputs": []
    },
    {
      "cell_type": "markdown",
      "source": [
        "Not"
      ],
      "metadata": {
        "id": "YaCuRObqtHRj"
      }
    },
    {
      "cell_type": "code",
      "source": [
        "not 10 > 2     # V - F"
      ],
      "metadata": {
        "id": "0YNhGI8StKgz"
      },
      "execution_count": null,
      "outputs": []
    },
    {
      "cell_type": "code",
      "source": [
        "not 10 < 2     # F - V"
      ],
      "metadata": {
        "id": "f9zi0BkYtPqu"
      },
      "execution_count": null,
      "outputs": []
    },
    {
      "cell_type": "markdown",
      "source": [
        "#Variáveis\n",
        "Variáveis estão alocadas em espaços na memória\n"
      ],
      "metadata": {
        "id": "RqO29L_Ft47Z"
      }
    },
    {
      "cell_type": "code",
      "source": [
        "# Nome da variável é \"x\" que armazena o valor 10 em um espaço na memória\n",
        "x = 10\n",
        "\n",
        "print(x) # Utilizar a referência no nome atribuído"
      ],
      "metadata": {
        "id": "CKxLoSn_uFOF"
      },
      "execution_count": null,
      "outputs": []
    },
    {
      "cell_type": "markdown",
      "source": [
        "Regras"
      ],
      "metadata": {
        "id": "pmi0TU5munCn"
      }
    },
    {
      "cell_type": "markdown",
      "source": [
        "**Case Sensitive**\n",
        "\n",
        "A != a\n",
        "\n",
        "**Boas Práticas com Variáveis**\n",
        "\n",
        "> Exemplo: Multiplicação de 2 números\n",
        "\n",
        "Não usar\n",
        "*   Multiplicação\n",
        "*   Multiplicação de dois números\n",
        "*   m\n",
        "\n",
        "Usar\n",
        "*   Multiplicação\n",
        "*   mult\n",
        "*   mult_total (snake_case)\n",
        "\n",
        "\n",
        "\n",
        "\n",
        "\n",
        "\n"
      ],
      "metadata": {
        "id": "M6vZ3rcOupsO"
      }
    },
    {
      "cell_type": "code",
      "source": [],
      "metadata": {
        "id": "o-7lCBdKukBV"
      },
      "execution_count": null,
      "outputs": []
    }
  ]
}