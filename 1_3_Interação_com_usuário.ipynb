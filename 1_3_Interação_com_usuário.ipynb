{
  "nbformat": 4,
  "nbformat_minor": 0,
  "metadata": {
    "colab": {
      "provenance": [],
      "authorship_tag": "ABX9TyP0zC1A3zUev7gSkdx4OOQX",
      "include_colab_link": true
    },
    "kernelspec": {
      "name": "python3",
      "display_name": "Python 3"
    },
    "language_info": {
      "name": "python"
    }
  },
  "cells": [
    {
      "cell_type": "markdown",
      "metadata": {
        "id": "view-in-github",
        "colab_type": "text"
      },
      "source": [
        "<a href=\"https://colab.research.google.com/github/lorianematos/modulo1EBAC-repositorio/blob/main/1_3_Intera%C3%A7%C3%A3o_com_usu%C3%A1rio.ipynb\" target=\"_parent\"><img src=\"https://colab.research.google.com/assets/colab-badge.svg\" alt=\"Open In Colab\"/></a>"
      ]
    },
    {
      "cell_type": "markdown",
      "source": [
        "# Visualização de variáveis e textos"
      ],
      "metadata": {
        "id": "JGZjUY_DyabL"
      }
    },
    {
      "cell_type": "code",
      "source": [
        "print(\"Conhecendo o comando Print\")\n",
        "\n",
        "x = 8\n",
        "print(x)"
      ],
      "metadata": {
        "id": "-r2azu9xyh46"
      },
      "execution_count": null,
      "outputs": []
    },
    {
      "cell_type": "code",
      "source": [
        "y = 10\n",
        "soma = x + y\n",
        "print(soma)"
      ],
      "metadata": {
        "colab": {
          "base_uri": "https://localhost:8080/"
        },
        "id": "266gBeZnzEl9",
        "outputId": "fff45537-5af8-41a5-caef-16870d6ae22a"
      },
      "execution_count": 2,
      "outputs": [
        {
          "output_type": "stream",
          "name": "stdout",
          "text": [
            "18\n"
          ]
        }
      ]
    },
    {
      "cell_type": "code",
      "source": [
        "nome = 'Loriane Matos'\n",
        "print(nome)"
      ],
      "metadata": {
        "colab": {
          "base_uri": "https://localhost:8080/"
        },
        "id": "v8gNsnGGz95H",
        "outputId": "ba08a2f5-a7aa-45a2-ad7c-db3b9cb5479d"
      },
      "execution_count": 3,
      "outputs": [
        {
          "output_type": "stream",
          "name": "stdout",
          "text": [
            "Loriane Matos\n"
          ]
        }
      ]
    },
    {
      "cell_type": "markdown",
      "source": [
        "Concatenação"
      ],
      "metadata": {
        "id": "8xESff8r0IHz"
      }
    },
    {
      "cell_type": "code",
      "source": [
        "x = 5\n",
        "print('O valor de x é', x)"
      ],
      "metadata": {
        "colab": {
          "base_uri": "https://localhost:8080/"
        },
        "id": "wLh9vkgf0HL1",
        "outputId": "cf6dc650-28a7-4b7b-b2c8-a12344ac119e"
      },
      "execution_count": 4,
      "outputs": [
        {
          "output_type": "stream",
          "name": "stdout",
          "text": [
            "O valor de x é 5\n"
          ]
        }
      ]
    },
    {
      "cell_type": "code",
      "source": [
        "print('O valor de x é',x, 'e o dobro é', x * 2)"
      ],
      "metadata": {
        "colab": {
          "base_uri": "https://localhost:8080/"
        },
        "id": "yVbXa33c0iQx",
        "outputId": "932aba85-e1cc-4387-acb5-2ef46bddf06a"
      },
      "execution_count": 5,
      "outputs": [
        {
          "output_type": "stream",
          "name": "stdout",
          "text": [
            "O valor de x é 5 e o dobro é 10\n"
          ]
        }
      ]
    },
    {
      "cell_type": "code",
      "source": [
        "print('Eu', nome, 'tirei', x, 'na prova de Python')"
      ],
      "metadata": {
        "colab": {
          "base_uri": "https://localhost:8080/"
        },
        "id": "9M-zIeID0uUF",
        "outputId": "bca42891-b4af-4848-d523-c44dc8dc8cb5"
      },
      "execution_count": 6,
      "outputs": [
        {
          "output_type": "stream",
          "name": "stdout",
          "text": [
            "Eu Loriane Matos tirei 5 na prova de Python\n"
          ]
        }
      ]
    },
    {
      "cell_type": "code",
      "source": [
        "y = 10; z = 20 + x - y\n",
        "print('Declarar várias variáveis na mesma linha:', y , z)"
      ],
      "metadata": {
        "colab": {
          "base_uri": "https://localhost:8080/"
        },
        "id": "2GjeWvOj07zz",
        "outputId": "65c45278-2721-48f5-eddc-3f6ae3223703"
      },
      "execution_count": 7,
      "outputs": [
        {
          "output_type": "stream",
          "name": "stdout",
          "text": [
            "Declarar várias variáveis na mesma linha: 10 15\n"
          ]
        }
      ]
    },
    {
      "cell_type": "markdown",
      "source": [
        "Type"
      ],
      "metadata": {
        "id": "jx5bnoZE1dfP"
      }
    },
    {
      "cell_type": "code",
      "source": [
        "x = 10\n",
        "type(x)\n",
        "print('x', type(x))\n",
        "\n",
        "nome = 'Loriane'\n",
        "print('nome', type(nome))\n",
        "\n",
        "num = '100'\n",
        "num_convert = int(num)    # Converter variável\n",
        "print('num', type(num))\n",
        "print('num_conver', type(num_convert))\n",
        "\n",
        "num_float = float(num)\n",
        "print('num_float', num_float)"
      ],
      "metadata": {
        "colab": {
          "base_uri": "https://localhost:8080/"
        },
        "id": "D6KoYyOd1WdA",
        "outputId": "9f13a322-a437-43e0-981f-9847ce645d1d"
      },
      "execution_count": 8,
      "outputs": [
        {
          "output_type": "stream",
          "name": "stdout",
          "text": [
            "x <class 'int'>\n",
            "nome <class 'str'>\n",
            "num <class 'str'>\n",
            "num_conver <class 'int'>\n",
            "num_float 100.0\n"
          ]
        }
      ]
    },
    {
      "cell_type": "markdown",
      "source": [
        "Input\n",
        "\n",
        "*   Armazenar a informação digitada pelo usuário em uma variável\n",
        "*   O dado armazenado sempre será um texto\n"
      ],
      "metadata": {
        "id": "HsY9_qk03RTA"
      }
    },
    {
      "cell_type": "code",
      "source": [
        "nome = input('Digite o nome do usuário')    # Aguarda o usuário digitar algo\n",
        "print(nome)"
      ],
      "metadata": {
        "id": "ySYEWm_Q3eTj"
      },
      "execution_count": null,
      "outputs": []
    },
    {
      "cell_type": "code",
      "source": [
        "valor = input('Digite a nota:')\n",
        "print(nome, 'sua nota foi', valor)"
      ],
      "metadata": {
        "id": "xWNykhru4xbB"
      },
      "execution_count": null,
      "outputs": []
    },
    {
      "cell_type": "code",
      "source": [
        "valor = input('Digite o valor do produto:')\n",
        "print(valor)"
      ],
      "metadata": {
        "colab": {
          "base_uri": "https://localhost:8080/"
        },
        "id": "psF0UZGT5F6G",
        "outputId": "3333a15e-3c08-4d5b-8816-01e9ee4f17d3"
      },
      "execution_count": 24,
      "outputs": [
        {
          "output_type": "stream",
          "name": "stdout",
          "text": [
            "Digite o valor do produto:100\n",
            "100\n"
          ]
        }
      ]
    },
    {
      "cell_type": "code",
      "source": [
        "valor_convet = int(valor)\n",
        "desconto = valor_convet - 5\n",
        "print(desconto)"
      ],
      "metadata": {
        "colab": {
          "base_uri": "https://localhost:8080/"
        },
        "id": "NpKuAOxA5ciH",
        "outputId": "1c80957d-54b2-4232-8997-47dcb379de3a"
      },
      "execution_count": 27,
      "outputs": [
        {
          "output_type": "stream",
          "name": "stdout",
          "text": [
            "95\n"
          ]
        }
      ]
    },
    {
      "cell_type": "code",
      "source": [
        "desconto + int(valor) - 5\n",
        "print(desconto)"
      ],
      "metadata": {
        "colab": {
          "base_uri": "https://localhost:8080/"
        },
        "id": "0XhgThkc5mHk",
        "outputId": "bd571dea-ccb7-46da-d60f-83031c50500f"
      },
      "execution_count": 28,
      "outputs": [
        {
          "output_type": "stream",
          "name": "stdout",
          "text": [
            "95\n"
          ]
        }
      ]
    }
  ]
}